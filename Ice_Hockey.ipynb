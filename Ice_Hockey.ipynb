{
 "cells": [
  {
   "cell_type": "code",
   "execution_count": 12,
   "metadata": {},
   "outputs": [],
   "source": [
    "import cv2\n",
    "import numpy as np"
   ]
  },
  {
   "cell_type": "code",
   "execution_count": 13,
   "metadata": {},
   "outputs": [],
   "source": [
    "'''\n",
    "This class represents the Hockey Board\n",
    "'''\n",
    "class Hockey_Board:\n",
    "    \n",
    "    def __init__(self,length,breadth,color):\n",
    "        self.length = length\n",
    "        self.breadth = breadth\n",
    "        self.color = color\n",
    "    \n",
    "    def showBoard(self):\n",
    "        img = np.ones((self.breadth,self.length,3))\n",
    "        img[:] = self.color\n",
    "        cv2.imshow('Hockey Board',img)\n",
    "        cv2.waitKey(0)\n",
    "        cv2.destroyAllWindows() "
   ]
  },
  {
   "cell_type": "code",
   "execution_count": 14,
   "metadata": {},
   "outputs": [],
   "source": [
    "'''\n",
    "This class represents the ball that is supposed to be bouncing around in the hocky board\n",
    "'''\n",
    "class Ball:\n",
    "    \n",
    "    def __init__(self,x,y,radius,color):\n",
    "        self.x = x\n",
    "        self.y = y\n",
    "        self.radius = radius\n",
    "        self.color  = color\n",
    "        \n",
    "    def ballCharacteristics(self):\n",
    "        print(self.x)\n",
    "        print(self.y)\n",
    "        print(self.radius)\n",
    "        print(self.color)\n",
    "        \n",
    "    def bounceBall(self):\n",
    "        pass\n",
    "        "
   ]
  },
  {
   "cell_type": "code",
   "execution_count": 18,
   "metadata": {},
   "outputs": [],
   "source": [
    "x = 3\n",
    "y = 4\n",
    "radius = 1\n",
    "color = (0,0,255)"
   ]
  },
  {
   "cell_type": "code",
   "execution_count": 17,
   "metadata": {},
   "outputs": [],
   "source": [
    "length = 960\n",
    "breadth = 480\n",
    "board_color = (0,255,100)\n",
    "hockey_board = Hockey_Board(length, breadth, board_color)\n",
    "hockey_board.showBoard()"
   ]
  },
  {
   "cell_type": "code",
   "execution_count": null,
   "metadata": {},
   "outputs": [],
   "source": [
    "b = Ball(x,y,radius,color)\n",
    "b.ballCharacteristics()"
   ]
  }
 ],
 "metadata": {
  "kernelspec": {
   "display_name": "Python 3",
   "language": "python",
   "name": "python3"
  },
  "language_info": {
   "codemirror_mode": {
    "name": "ipython",
    "version": 3
   },
   "file_extension": ".py",
   "mimetype": "text/x-python",
   "name": "python",
   "nbconvert_exporter": "python",
   "pygments_lexer": "ipython3",
   "version": "3.8.5"
  }
 },
 "nbformat": 4,
 "nbformat_minor": 4
}
