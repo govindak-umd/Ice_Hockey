{
 "cells": [
  {
   "cell_type": "code",
   "execution_count": 41,
   "metadata": {},
   "outputs": [],
   "source": [
    "import cv2\n",
    "import numpy as np"
   ]
  },
  {
   "cell_type": "code",
   "execution_count": 55,
   "metadata": {},
   "outputs": [],
   "source": [
    "'''\n",
    "This class represents the Hockey Board\n",
    "'''\n",
    "class Hockey_Board:\n",
    "    \n",
    "    def __init__(self,length,breadth,color):\n",
    "        self.length = length\n",
    "        self.breadth = breadth\n",
    "        self.color = color\n",
    "    \n",
    "    def boardCharacteristics(self):\n",
    "        print('Length of the board : ', self.length)\n",
    "        print('Breadth of the board : ',self.breadth)\n",
    "        print('Color of the board : ', self.color)\n",
    "        \n",
    "    def showBoard(self):\n",
    "        img = np.ones((self.breadth,self.length,3))\n",
    "        img[:] = self.color\n",
    "        cv2.imshow('Hockey Board',img)\n",
    "        cv2.waitKey(0)\n",
    "        cv2.destroyAllWindows()\n",
    "        \n",
    "    def showBallonBoard(self,x,y,r,col):\n",
    "        img = np.ones((self.breadth,self.length,3))\n",
    "        img[:] = self.color\n",
    "        cv2.circle(img, (x,y), r, col, thickness=-1, lineType=8, shift=0)\n",
    "        cv2.imshow('Hockey Board with ball',img)\n",
    "        cv2.waitKey(0)\n",
    "        cv2.destroyAllWindows() "
   ]
  },
  {
   "cell_type": "code",
   "execution_count": 56,
   "metadata": {},
   "outputs": [],
   "source": [
    "'''\n",
    "This class represents the ball that is supposed to be bouncing around in the hocky board\n",
    "'''\n",
    "class Ball:\n",
    "    \n",
    "    def __init__(self,x,y,radius,color,length,breadth,board_color):\n",
    "        self.x = x\n",
    "        self.y = y\n",
    "        self.radius = radius\n",
    "        self.color  = color\n",
    "        self.length = length\n",
    "        self.breadth = breadth\n",
    "        self.board_color = board_color\n",
    "        \n",
    "    def ballCharacteristics(self):\n",
    "        print('Ball x pos : ', self.x)\n",
    "        print('Ball y pos : ',self.y)\n",
    "        print('Ball radius : ', self.radius)\n",
    "        print('Ball color : ', self.color)\n",
    "        \n",
    "    def bounceBall(self):\n",
    "        hockey_board = Hockey_Board(length, breadth, board_color)\n",
    "        hockey_board.showBallonBoard(self.x,self.y,self.radius,self.color)"
   ]
  },
  {
   "cell_type": "code",
   "execution_count": 57,
   "metadata": {},
   "outputs": [],
   "source": [
    "# Ball characteristics\n",
    "x = 300\n",
    "y = 40\n",
    "radius = 10\n",
    "color = (0,0,255)\n",
    "\n",
    "# Board characteristics\n",
    "length = 960\n",
    "breadth = 480\n",
    "board_color = (0,255,100)"
   ]
  },
  {
   "cell_type": "code",
   "execution_count": 60,
   "metadata": {},
   "outputs": [
    {
     "name": "stdout",
     "output_type": "stream",
     "text": [
      "Length of the board :  960\n",
      "Breadth of the board :  480\n",
      "Color of the board :  (0, 255, 100)\n"
     ]
    }
   ],
   "source": [
    "hockey_board = Hockey_Board(length, breadth, board_color)\n",
    "hockey_board.boardCharacteristics()\n",
    "# hockey_board.showBoard()"
   ]
  },
  {
   "cell_type": "code",
   "execution_count": 61,
   "metadata": {},
   "outputs": [
    {
     "name": "stdout",
     "output_type": "stream",
     "text": [
      "Ball x pos :  300\n",
      "Ball y pos :  40\n",
      "Ball radius :  10\n",
      "Ball color :  (0, 0, 255)\n",
      "Notice the ball on board\n"
     ]
    }
   ],
   "source": [
    "b = Ball(x,y,radius,color,length, breadth, board_color)\n",
    "b.ballCharacteristics()\n",
    "b.bounceBall()"
   ]
  },
  {
   "cell_type": "code",
   "execution_count": null,
   "metadata": {},
   "outputs": [],
   "source": []
  },
  {
   "cell_type": "code",
   "execution_count": null,
   "metadata": {},
   "outputs": [],
   "source": []
  }
 ],
 "metadata": {
  "kernelspec": {
   "display_name": "Python 3",
   "language": "python",
   "name": "python3"
  },
  "language_info": {
   "codemirror_mode": {
    "name": "ipython",
    "version": 3
   },
   "file_extension": ".py",
   "mimetype": "text/x-python",
   "name": "python",
   "nbconvert_exporter": "python",
   "pygments_lexer": "ipython3",
   "version": "3.8.5"
  }
 },
 "nbformat": 4,
 "nbformat_minor": 4
}
