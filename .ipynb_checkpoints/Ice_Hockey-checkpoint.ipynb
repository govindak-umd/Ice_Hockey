{
 "cells": [
  {
   "cell_type": "code",
   "execution_count": 1,
   "metadata": {},
   "outputs": [],
   "source": [
    "import cv2\n",
    "import numpy as np\n",
    "import time"
   ]
  },
  {
   "cell_type": "code",
   "execution_count": 2,
   "metadata": {},
   "outputs": [],
   "source": [
    "'''\n",
    "This class represents the Hockey Board\n",
    "'''\n",
    "class Hockey_Board:\n",
    "    \n",
    "    def __init__(self,length,breadth,color):\n",
    "        self.length = length\n",
    "        self.breadth = breadth\n",
    "        self.color = color\n",
    "    \n",
    "    def boardCharacteristics(self):\n",
    "        print('Length of the board : ', self.length)\n",
    "        print('Breadth of the board : ',self.breadth)\n",
    "        print('Color of the board : ', self.color)\n",
    "        \n",
    "    def showBoard(self):\n",
    "        img = np.ones((self.breadth,self.length,3))\n",
    "        img[:] = self.color\n",
    "        cv2.imshow('Hockey Board',img)\n",
    "        cv2.waitKey(0)\n",
    "        cv2.destroyAllWindows()\n",
    "        \n",
    "    def showBallonBoard(self,x,y,r,col):\n",
    "        img = np.ones((self.breadth,self.length,3))\n",
    "        img[:] = self.color\n",
    "        orig_img = img.copy()\n",
    "        print('Going Down')\n",
    "        for d_h in range(y,breadth):\n",
    "            orig_img = img.copy()\n",
    "            cv2.circle(orig_img, (x,d_h), r, col, thickness=-1, lineType=8, shift=0)\n",
    "            cv2.putText(orig_img,\"Going Down\", (x+20,y), cv2.FONT_HERSHEY_SIMPLEX, 0.5, 255)\n",
    "            cv2.imshow('Hockey Board with ball',orig_img)\n",
    "            if cv2.waitKey(20) & 0xFF == ord('q'):\n",
    "                break\n",
    "        print('Going back up')\n",
    "        for u_h in range(breadth,y,-1):\n",
    "            orig_img = img.copy()\n",
    "            cv2.circle(orig_img, (x,u_h), r, col, thickness=-1, lineType=8, shift=0)\n",
    "            cv2.putText(orig_img,\"Going Up\", (x+20,y), cv2.FONT_HERSHEY_SIMPLEX, 0.5, 255)\n",
    "            cv2.imshow('Hockey Board with ball',orig_img)\n",
    "            if cv2.waitKey(20) & 0xFF == ord('q'):\n",
    "                break\n",
    "        print('Up and down complete')"
   ]
  },
  {
   "cell_type": "code",
   "execution_count": 3,
   "metadata": {},
   "outputs": [],
   "source": [
    "'''\n",
    "This class represents the ball that is supposed to be bouncing around in the hocky board\n",
    "'''\n",
    "class Ball:\n",
    "    \n",
    "    def __init__(self,x,y,radius,color,length,breadth,board_color):\n",
    "        self.x = x\n",
    "        self.y = y\n",
    "        self.radius = radius\n",
    "        self.color  = color\n",
    "        self.length = length\n",
    "        self.breadth = breadth\n",
    "        self.board_color = board_color\n",
    "        \n",
    "    def ballCharacteristics(self):\n",
    "        print('Ball x pos : ', self.x)\n",
    "        print('Ball y pos : ',self.y)\n",
    "        print('Ball radius : ', self.radius)\n",
    "        print('Ball color : ', self.color)\n",
    "        \n",
    "    def bounceBall(self):\n",
    "        while (1):\n",
    "            hockey_board = Hockey_Board(length, breadth, board_color)\n",
    "            hockey_board.showBallonBoard(self.x,self.y,self.radius,self.color)\n",
    "            if cv2.waitKey(20) & 0xFF == ord('w'):\n",
    "                break\n",
    "        cv2.destroyAllWindows()"
   ]
  },
  {
   "cell_type": "code",
   "execution_count": 4,
   "metadata": {},
   "outputs": [],
   "source": [
    "# Ball characteristics\n",
    "x = 30\n",
    "y = 40\n",
    "radius = 10\n",
    "color = (0,0,255)\n",
    "\n",
    "# Board characteristics\n",
    "# length = 960\n",
    "length = 480\n",
    "# breadth = 480\n",
    "breadth = 240\n",
    "board_color = (0,255,100)"
   ]
  },
  {
   "cell_type": "code",
   "execution_count": 5,
   "metadata": {},
   "outputs": [
    {
     "name": "stdout",
     "output_type": "stream",
     "text": [
      "Length of the board :  480\n",
      "Breadth of the board :  240\n",
      "Color of the board :  (0, 255, 100)\n"
     ]
    }
   ],
   "source": [
    "hockey_board = Hockey_Board(length, breadth, board_color)\n",
    "hockey_board.boardCharacteristics()\n",
    "# hockey_board.showBoard()"
   ]
  },
  {
   "cell_type": "code",
   "execution_count": 6,
   "metadata": {},
   "outputs": [
    {
     "name": "stdout",
     "output_type": "stream",
     "text": [
      "Ball x pos :  30\n",
      "Ball y pos :  40\n",
      "Ball radius :  10\n",
      "Ball color :  (0, 0, 255)\n",
      "Going Down\n",
      "Going back up\n",
      "Up and down complete\n",
      "Going Down\n",
      "Going back up\n",
      "Up and down complete\n"
     ]
    }
   ],
   "source": [
    "b = Ball(x,y,radius,color,length, breadth, board_color)\n",
    "b.ballCharacteristics()\n",
    "b.bounceBall()"
   ]
  },
  {
   "cell_type": "code",
   "execution_count": null,
   "metadata": {},
   "outputs": [],
   "source": []
  },
  {
   "cell_type": "code",
   "execution_count": null,
   "metadata": {},
   "outputs": [],
   "source": []
  },
  {
   "cell_type": "code",
   "execution_count": null,
   "metadata": {},
   "outputs": [],
   "source": [
    "# Bouncing ball\n",
    "\n",
    "\n",
    "# img = np.ones((breadth,length,3))\n",
    "# img[:] = board_color\n",
    "# orig_img = img.copy()\n",
    "# count = 0\n",
    "# while (1):\n",
    "#     for d_h in range(y,breadth):\n",
    "#         orig_img = img.copy()\n",
    "#         cv2.circle(orig_img, (x,d_h), radius, color, thickness=-1, lineType=8, shift=0)\n",
    "#         cv2.putText(orig_img,\"Hello World!!!\"+ str(d_h), (x+20,y), cv2.FONT_HERSHEY_SIMPLEX, 0.8, 255)\n",
    "#         cv2.imshow('Hockey Board with ball',orig_img)\n",
    "#         count+=1\n",
    "#         if cv2.waitKey(20) & 0xFF == ord('q'):\n",
    "#                 break\n",
    "# cv2.destroyAllWindows()"
   ]
  },
  {
   "cell_type": "code",
   "execution_count": null,
   "metadata": {},
   "outputs": [],
   "source": []
  }
 ],
 "metadata": {
  "kernelspec": {
   "display_name": "Python 3",
   "language": "python",
   "name": "python3"
  },
  "language_info": {
   "codemirror_mode": {
    "name": "ipython",
    "version": 3
   },
   "file_extension": ".py",
   "mimetype": "text/x-python",
   "name": "python",
   "nbconvert_exporter": "python",
   "pygments_lexer": "ipython3",
   "version": "3.8.5"
  }
 },
 "nbformat": 4,
 "nbformat_minor": 4
}
